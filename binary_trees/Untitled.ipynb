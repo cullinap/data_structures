{
 "cells": [
  {
   "cell_type": "code",
   "execution_count": 1,
   "metadata": {},
   "outputs": [],
   "source": [
    "# binary trees"
   ]
  },
  {
   "cell_type": "code",
   "execution_count": 4,
   "metadata": {},
   "outputs": [
    {
     "data": {
      "text/plain": [
       "'1-2-4-5-3-6-7-'"
      ]
     },
     "execution_count": 4,
     "metadata": {},
     "output_type": "execute_result"
    }
   ],
   "source": [
    "class Node(object):\n",
    "    def __init__(self, value):\n",
    "        self.value = value\n",
    "        self.left = None\n",
    "        self.right = None\n",
    "        \n",
    "class BinaryTree(object):\n",
    "    def __init__(self,root):\n",
    "        self.root = Node(root)\n",
    "        \n",
    "    def print_tree(self, traversal_type):\n",
    "        if traversal_type == \"preorder\":\n",
    "            return self.preorder_print(tree.root, \"\")\n",
    "        \n",
    "        else:\n",
    "            print(\"Traversal type \" + str(traversal_type) + \" is not supported\")\n",
    "        \n",
    "    def preorder_print(self, start, traversal):\n",
    "        \"\"\"Root->Left->Right\"\"\"\n",
    "        if start:\n",
    "            traversal += (str(start.value) + \"-\")\n",
    "            traversal = self.preorder_print(start.left, traversal)\n",
    "            traversal = self.preorder_print(start.right, traversal)\n",
    "            \n",
    "        return traversal\n",
    "\n",
    "    \n",
    "    \n",
    "#         1\n",
    "#       /   \\\n",
    "#      2     3\n",
    "#     / \\    / \\ \n",
    "#    4   5  6   7\n",
    "        \n",
    "tree = BinaryTree(1)\n",
    "tree.root.left = Node(2)\n",
    "tree.root.right = Node(3)\n",
    "\n",
    "# left branch\n",
    "tree.root.left.left = Node(4)\n",
    "tree.root.left.right = Node(5)\n",
    "\n",
    "# right branch\n",
    "tree.root.right.left = Node(6)\n",
    "tree.root.right.right = Node(7)\n",
    "\n",
    "tree.print_tree(\"preorder\")"
   ]
  },
  {
   "cell_type": "code",
   "execution_count": null,
   "metadata": {},
   "outputs": [],
   "source": []
  }
 ],
 "metadata": {
  "kernelspec": {
   "display_name": "Python 3",
   "language": "python",
   "name": "python3"
  },
  "language_info": {
   "codemirror_mode": {
    "name": "ipython",
    "version": 3
   },
   "file_extension": ".py",
   "mimetype": "text/x-python",
   "name": "python",
   "nbconvert_exporter": "python",
   "pygments_lexer": "ipython3",
   "version": "3.8.4"
  }
 },
 "nbformat": 4,
 "nbformat_minor": 4
}
